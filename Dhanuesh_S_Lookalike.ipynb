{
 "cells": [
  {
   "cell_type": "code",
   "execution_count": 2,
   "id": "d2137d7b",
   "metadata": {},
   "outputs": [
    {
     "name": "stdout",
     "output_type": "stream",
     "text": [
      "  CustomerID Lookalike1 Score1 Lookalike2    Score2  Lookalike3    Score3\n",
      "0      C0001      C0164  C0085      C0127  0.999925    0.999596  0.999569\n",
      "1      C0002      C0157  C0094      C0029  0.999994    0.999828  0.999825\n",
      "2      C0003      C0111  C0160      C0147  0.995616    0.989199  0.986027\n",
      "3      C0004      C0162  C0165      C0175  1.000000    0.999964  0.998590\n",
      "4      C0005      C0080  C0167      C0177  0.999981    0.999974  0.999929\n"
     ]
    }
   ],
   "source": [
    "import pandas as pd\n",
    "import numpy as np\n",
    "import seaborn as sns\n",
    "import matplotlib.pyplot as plt\n",
    "from sklearn.preprocessing import StandardScaler\n",
    "from sklearn.metrics.pairwise import cosine_similarity\n",
    "from sklearn.cluster import KMeans\n",
    "\n",
    "# Load datasets\n",
    "customers = pd.read_csv(r\"C:\\Users\\dhanu\\Downloads\\Customers.csv\")\n",
    "products = pd.read_csv(r\"C:\\Users\\dhanu\\Downloads\\Products.csv\")\n",
    "transactions = pd.read_csv(r\"C:\\Users\\dhanu\\Downloads\\Transactions.csv\")\n",
    "\n",
    "# Convert dates to datetime\n",
    "customers['SignupDate'] = pd.to_datetime(customers['SignupDate'])\n",
    "transactions['TransactionDate'] = pd.to_datetime(transactions['TransactionDate'])\n",
    "# --- Task 2: Lookalike Model --- #\n",
    "\n",
    "# Merge data for feature engineering\n",
    "customer_transactions = transactions.groupby('CustomerID').agg({'TotalValue': 'sum', 'Quantity': 'sum'}).reset_index()\n",
    "customer_data = pd.merge(customers, customer_transactions, on='CustomerID', how='left').fillna(0)\n",
    "\n",
    "# Normalize data\n",
    "scaler = StandardScaler()\n",
    "scaled_features = scaler.fit_transform(customer_data[['TotalValue', 'Quantity']])\n",
    "\n",
    "# Compute cosine similarity\n",
    "similarity_matrix = cosine_similarity(scaled_features)\n",
    "similarity_df = pd.DataFrame(similarity_matrix, index=customer_data['CustomerID'], columns=customer_data['CustomerID'])\n",
    "\n",
    "# Generate lookalike recommendations\n",
    "def get_lookalikes(similarity_df, top_n=3):\n",
    "    lookalike_dict = {}\n",
    "\n",
    "    for customer in similarity_df.index[:20]:  # First 20 customers\n",
    "        similar_customers = similarity_df.loc[customer].sort_values(ascending=False).iloc[1:top_n+1]\n",
    "        lookalike_dict[customer] = list(similar_customers.index) + list(similar_customers.values)\n",
    "\n",
    "    return lookalike_dict\n",
    "\n",
    "lookalike_results = get_lookalikes(similarity_df)\n",
    "\n",
    "# Save lookalikes to CSV\n",
    "lookalike_df = pd.DataFrame.from_dict(lookalike_results, orient='index', columns=['Lookalike1', 'Score1', 'Lookalike2', 'Score2', 'Lookalike3', 'Score3'])\n",
    "lookalike_df.to_csv('Lookalike.csv', index_label='CustomerID')\n",
    "df = pd.read_csv('Lookalike.csv')\n",
    "print(df.head()) "
   ]
  },
  {
   "cell_type": "code",
   "execution_count": null,
   "id": "efda9c4a",
   "metadata": {},
   "outputs": [],
   "source": []
  }
 ],
 "metadata": {
  "kernelspec": {
   "display_name": "Python 3 (ipykernel)",
   "language": "python",
   "name": "python3"
  },
  "language_info": {
   "codemirror_mode": {
    "name": "ipython",
    "version": 3
   },
   "file_extension": ".py",
   "mimetype": "text/x-python",
   "name": "python",
   "nbconvert_exporter": "python",
   "pygments_lexer": "ipython3",
   "version": "3.10.9"
  }
 },
 "nbformat": 4,
 "nbformat_minor": 5
}
